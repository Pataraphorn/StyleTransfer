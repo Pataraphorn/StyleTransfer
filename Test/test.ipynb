{
  "nbformat": 4,
  "nbformat_minor": 0,
  "metadata": {
    "language_info": {
      "codemirror_mode": {
        "name": "ipython",
        "version": 3
      },
      "file_extension": ".py",
      "mimetype": "text/x-python",
      "name": "python",
      "nbconvert_exporter": "python",
      "pygments_lexer": "ipython3",
      "version": "3.8.5"
    },
    "orig_nbformat": 2,
    "kernelspec": {
      "name": "python385jvsc74a57bd00996f35b75702112a1d905a6101b386a95a37eed83387a128912f524a1fa0eaa",
      "display_name": "Python 3.8.5 64-bit ('base': conda)"
    },
    "colab": {
      "name": "test.ipynb",
      "provenance": [],
      "include_colab_link": true
    },
    "accelerator": "GPU",
    "metadata": {
      "interpreter": {
        "hash": "81b3698776de18e1ac51cc976fbbe0cf415f92d82c22b1c7e8f4556e3e4292d2"
      }
    }
  },
  "cells": [
    {
      "cell_type": "markdown",
      "metadata": {
        "id": "view-in-github",
        "colab_type": "text"
      },
      "source": [
        "<a href=\"https://colab.research.google.com/github/Pataraphorn/StyleTransfer/blob/main/Test/test.ipynb\" target=\"_parent\"><img src=\"https://colab.research.google.com/assets/colab-badge.svg\" alt=\"Open In Colab\"/></a>"
      ]
    },
    {
      "source": [
        "# Install colab_ssh on google colab\n",
        "!pip install colab_ssh --upgrade"
      ],
      "cell_type": "markdown",
      "metadata": {
        "id": "IPrfz_g3W0RC",
        "colab": {
          "base_uri": "https://localhost:8080/"
        },
        "outputId": "c90c1e23-f6d1-4e49-ba41-7b3329580f1c"
      }
    },
    {
      "source": [
        "from colab_ssh import launch_ssh_cloudflared, init_git_cloudflared\n",
        "launch_ssh_cloudflared(password=\"1234\")"
      ],
      "cell_type": "markdown",
      "metadata": {
        "id": "xyJceuiQW2yT",
        "colab": {
          "base_uri": "https://localhost:8080/",
          "height": 219
        },
        "outputId": "115dada1-5db9-43f4-bacb-da6cbef5fd8d"
      }
    },
    {
      "source": [
        "init_git_cloudflared('https://github.com/Pataraphorn/StyleTransfer.git')"
      ],
      "cell_type": "markdown",
      "metadata": {
        "id": "hjG_-MNyQNMX"
      }
    },
    {
      "source": [
        "# use in colab\n",
        "!git clone https://github.com/Pataraphorn/StyleTransfer.git clone"
      ],
      "cell_type": "markdown",
      "metadata": {
        "id": "TXU7V8CKy9Rk",
        "colab": {
          "base_uri": "https://localhost:8080/"
        },
        "outputId": "29601e36-7bb0-4263-e1da-bf70416c08d0"
      }
    },
    {
      "source": [
        "%cd clone/Test\n",
        "!ls"
      ],
      "cell_type": "markdown",
      "metadata": {
        "id": "BfC6BjbFy9Rk",
        "colab": {
          "base_uri": "https://localhost:8080/"
        },
        "outputId": "56a9b539-ac6f-4660-f430-4a8b7524fa42"
      }
    },
    {
      "source": [
        "%run main_v2.py"
      ],
      "cell_type": "markdown",
      "metadata": {
        "id": "wnPU-KLJWm-X",
        "outputId": "22d9adf4-899e-4267-a59f-6ce877580d28"
      }
    },
    {
      "source": [
        "# Experiments"
      ],
      "cell_type": "markdown",
      "metadata": {}
    },
    {
      "cell_type": "code",
      "execution_count": null,
      "metadata": {},
      "outputs": [],
      "source": [
        "import main as m\n",
        "import utils as fn\n",
        "import model\n",
        "import matplotlib.pyplot as plt\n"
      ]
    },
    {
      "cell_type": "code",
      "execution_count": null,
      "metadata": {},
      "outputs": [],
      "source": [
        "def allM(IMG_SIZE,STYLE_IMG,CONTENT_IMG,NUM_EPOCHS,ADAM_LR,STYLE_WEIGHT,CONTENT_WEIGHT,BASE_PATH):\n",
        "    POOL = 'max' # or 'avg'\n",
        "    VGG = model.VGG19(pool=POOL)\n",
        "\n",
        "    METHOD = 'before' # or 'after'\n",
        "    COLOR = None # or 'histogram' or 'luminance'\n",
        "    \n",
        "    result = m.main(VGG,IMG_SIZE,STYLE_IMG,CONTENT_IMG,'after',COLOR,NUM_EPOCHS,ADAM_LR,STYLE_WEIGHT,CONTENT_WEIGHT)\n",
        "    fn.FImg.save(result, BASE_PATH+'/max_before_no_fig1.jpg')\n",
        "\n",
        "    METHOD = 'before' # or 'after'\n",
        "    COLOR = 'histogram'\n",
        "\n",
        "    result = m.main(VGG,IMG_SIZE,STYLE_IMG,CONTENT_IMG,'after',COLOR,NUM_EPOCHS,ADAM_LR,STYLE_WEIGHT,CONTENT_WEIGHT)\n",
        "    fn.FImg.save(result, BASE_PATH+'/max_before_histogram_fig2.jpg')\n",
        "\n",
        "    METHOD = 'before' # or 'after'\n",
        "    COLOR = 'luminance'\n",
        "\n",
        "    result = m.main(VGG,IMG_SIZE,STYLE_IMG,CONTENT_IMG,'after',COLOR,NUM_EPOCHS,ADAM_LR,STYLE_WEIGHT,CONTENT_WEIGHT)\n",
        "    fn.FImg.save(result, BASE_PATH+'/max_before_luminance_fig3.jpg')\n",
        "\n",
        "    METHOD = 'after'\n",
        "    COLOR = 'histogram'\n",
        "\n",
        "    result = m.main(VGG,IMG_SIZE,STYLE_IMG,CONTENT_IMG,'after',COLOR,NUM_EPOCHS,ADAM_LR,STYLE_WEIGHT,CONTENT_WEIGHT)\n",
        "    fn.FImg.save(result, BASE_PATH+'/max_after_histogram_fig4.jpg')\n",
        "\n",
        "    METHOD = 'after'\n",
        "    COLOR = 'luminance'\n",
        "\n",
        "    result = m.main(VGG,IMG_SIZE,STYLE_IMG,CONTENT_IMG,'after',COLOR,NUM_EPOCHS,ADAM_LR,STYLE_WEIGHT,CONTENT_WEIGHT)\n",
        "    fn.FImg.save(result, BASE_PATH+'/max_after_luminance_fig5.jpg')"
      ]
    },
    {
      "cell_type": "code",
      "execution_count": null,
      "metadata": {},
      "outputs": [],
      "source": [
        "def allA(IMG_SIZE,STYLE_IMG,CONTENT_IMG,NUM_EPOCHS,ADAM_LR,STYLE_WEIGHT,CONTENT_WEIGHT,BASE_PATH):\n",
        "    POOL = 'avg' # or 'avg'\n",
        "    VGG = model.VGG19(pool=POOL)\n",
        "\n",
        "    METHOD = 'before' # or 'after'\n",
        "    COLOR = None # or 'histogram' or 'luminance'\n",
        "    \n",
        "    result = m.main(VGG,IMG_SIZE,STYLE_IMG,CONTENT_IMG,'after',COLOR,NUM_EPOCHS,ADAM_LR,STYLE_WEIGHT,CONTENT_WEIGHT)\n",
        "    fn.FImg.save(result, BASE_PATH+'/avg_before_no_fig6.jpg')\n",
        "\n",
        "    METHOD = 'before' # or 'after'\n",
        "    COLOR = 'histogram'\n",
        "\n",
        "    result = m.main(VGG,IMG_SIZE,STYLE_IMG,CONTENT_IMG,'after',COLOR,NUM_EPOCHS,ADAM_LR,STYLE_WEIGHT,CONTENT_WEIGHT)\n",
        "    fn.FImg.save(result, BASE_PATH+'/avg_before_histogram_fig7.jpg')\n",
        "\n",
        "    METHOD = 'before' # or 'after'\n",
        "    COLOR = 'luminance'\n",
        "\n",
        "    result = m.main(VGG,IMG_SIZE,STYLE_IMG,CONTENT_IMG,'after',COLOR,NUM_EPOCHS,ADAM_LR,STYLE_WEIGHT,CONTENT_WEIGHT)\n",
        "    fn.FImg.save(result, BASE_PATH+'/avg_before_luminance_fig8.jpg')\n",
        "\n",
        "    METHOD = 'after'\n",
        "    COLOR = 'histogram'\n",
        "\n",
        "    result = m.main(VGG,IMG_SIZE,STYLE_IMG,CONTENT_IMG,'after',COLOR,NUM_EPOCHS,ADAM_LR,STYLE_WEIGHT,CONTENT_WEIGHT)\n",
        "    fn.FImg.save(result, BASE_PATH+'/avg_after_histogram_fig9.jpg')\n",
        "\n",
        "    METHOD = 'after'\n",
        "    COLOR = 'luminance'\n",
        "\n",
        "    result = m.main(VGG,IMG_SIZE,STYLE_IMG,CONTENT_IMG,'after',COLOR,NUM_EPOCHS,ADAM_LR,STYLE_WEIGHT,CONTENT_WEIGHT)\n",
        "    fn.FImg.save(result, BASE_PATH+'/vg_after_luminance_fig10.jpg')"
      ]
    },
    {
      "cell_type": "code",
      "execution_count": null,
      "metadata": {},
      "outputs": [],
      "source": [
        "ADAM_LR = 0.03 \n",
        "NUM_EPOCHS = 100\n",
        "# ADAM_LR = 0.003  \n",
        "# NUM_EPOCHS = 500\n",
        "STYLE_WEIGHT = 1e1\n",
        "CONTENT_WEIGHT = 1e-1\n",
        "IMG_SIZE = (224,224)"
      ]
    },
    {
      "source": [
        "## 1"
      ],
      "cell_type": "markdown",
      "metadata": {}
    },
    {
      "cell_type": "code",
      "execution_count": null,
      "metadata": {},
      "outputs": [],
      "source": [
        "STYLE_IMG = r'./StyleImage/Chakrabhan/0001.jpg'\n",
        "CONTENT_IMG = r'./ContentImage/test/1.jpg'"
      ]
    },
    {
      "cell_type": "code",
      "execution_count": null,
      "metadata": {},
      "outputs": [],
      "source": [
        "%cd c:\\Users\\mpata\\OneDrive - King Mongkut’s University of Technology Thonburi (KMUTT)\\StyleTransfer\\Test\\output\n",
        "%mkdir output1\n",
        "%cd output1"
      ]
    },
    {
      "cell_type": "code",
      "execution_count": null,
      "metadata": {},
      "outputs": [],
      "source": [
        "Style = fn.AImage(STYLE_IMG)\n",
        "Content = fn.AImage(CONTENT_IMG)\n",
        "fig,(ax1,ax2)=plt.subplots(1,2,figsize=(15,10)) \n",
        "#Plotting content image   \n",
        "ax1.set_title('Content Image', fontsize=25)\n",
        "ax1.imshow(fn.FImg.resize(Content.Img, (1024,1024)))  \n",
        "ax1.axis('off')  \n",
        "#Plotting style image  \n",
        "ax2.set_title('Style Image', fontsize=25)\n",
        "ax2.imshow(fn.FImg.resize(Style.Img, (1024,1024)))\n",
        "ax2.axis('off')\n",
        "plt.savefig(os.getcwd()+'/Chakrabhanstyle_content.jpg', bbox_inches='tight', pad_inches=0.25)  \n",
        "plt.show()"
      ]
    },
    {
      "cell_type": "code",
      "execution_count": null,
      "metadata": {},
      "outputs": [],
      "source": [
        "BASE_PATH = os.getcwd()\n",
        "allM(IMG_SIZE,STYLE_IMG,CONTENT_IMG,NUM_EPOCHS,ADAM_LR,STYLE_WEIGHT,CONTENT_WEIGHT,BASE_PATH)"
      ]
    },
    {
      "cell_type": "code",
      "execution_count": null,
      "metadata": {},
      "outputs": [],
      "source": [
        "allA(IMG_SIZE,STYLE_IMG,CONTENT_IMG,NUM_EPOCHS,ADAM_LR,STYLE_WEIGHT,CONTENT_WEIGHT,BASE_PATH)"
      ]
    },
    {
      "source": [
        "## 2"
      ],
      "cell_type": "markdown",
      "metadata": {}
    },
    {
      "cell_type": "code",
      "execution_count": null,
      "metadata": {},
      "outputs": [],
      "source": [
        "STYLE_IMG = r'./StyleImage/Chakrabhan/0001.jpg'\n",
        "CONTENT_IMG = r'./ContentImage/test/10.jpg'"
      ]
    },
    {
      "cell_type": "code",
      "execution_count": null,
      "metadata": {},
      "outputs": [],
      "source": [
        "%cd c:\\Users\\mpata\\OneDrive - King Mongkut’s University of Technology Thonburi (KMUTT)\\StyleTransfer\\Test\\output\n",
        "%mkdir output2\n",
        "%cd output2"
      ]
    },
    {
      "cell_type": "code",
      "execution_count": null,
      "metadata": {},
      "outputs": [],
      "source": [
        "Style = fn.AImage(STYLE_IMG)\n",
        "Content = fn.AImage(CONTENT_IMG)\n",
        "fig,(ax1,ax2)=plt.subplots(1,2,figsize=(15,10)) \n",
        "#Plotting content image   \n",
        "ax1.set_title('Content Image', fontsize=25)\n",
        "ax1.imshow(fn.FImg.resize(Content.Img, (1024,1024)))  \n",
        "ax1.axis('off')  \n",
        "#Plotting style image  \n",
        "ax2.set_title('Style Image', fontsize=25)\n",
        "ax2.imshow(fn.FImg.resize(Style.Img, (1024,1024)))\n",
        "ax2.axis('off')\n",
        "plt.savefig(os.getcwd()+'/Chalkrahbunstyle_content.jpg', bbox_inches='tight', pad_inches=0.25)  \n",
        "plt.show()"
      ]
    },
    {
      "cell_type": "code",
      "execution_count": null,
      "metadata": {},
      "outputs": [],
      "source": [
        "BASE_PATH = os.getcwd()\n",
        "allM(IMG_SIZE,STYLE_IMG,CONTENT_IMG,NUM_EPOCHS,ADAM_LR,STYLE_WEIGHT,CONTENT_WEIGHT,BASE_PATH)"
      ]
    },
    {
      "cell_type": "code",
      "execution_count": null,
      "metadata": {},
      "outputs": [],
      "source": [
        "allA(IMG_SIZE,STYLE_IMG,CONTENT_IMG,NUM_EPOCHS,ADAM_LR,STYLE_WEIGHT,CONTENT_WEIGHT,BASE_PATH)"
      ]
    },
    {
      "source": [
        "## 3"
      ],
      "cell_type": "markdown",
      "metadata": {}
    },
    {
      "cell_type": "code",
      "execution_count": null,
      "metadata": {},
      "outputs": [],
      "source": [
        "STYLE_IMG = r'./StyleImage/Chakrabhan/0003.jpg'\n",
        "CONTENT_IMG = r'./ContentImage/test/8.jpg'"
      ]
    },
    {
      "cell_type": "code",
      "execution_count": null,
      "metadata": {},
      "outputs": [],
      "source": [
        "%cd c:\\Users\\mpata\\OneDrive - King Mongkut’s University of Technology Thonburi (KMUTT)\\StyleTransfer\\Test\\output\n",
        "%mkdir output3\n",
        "%cd output3"
      ]
    },
    {
      "cell_type": "code",
      "execution_count": null,
      "metadata": {},
      "outputs": [],
      "source": [
        "Style = fn.AImage(STYLE_IMG)\n",
        "Content = fn.AImage(CONTENT_IMG)\n",
        "fig,(ax1,ax2)=plt.subplots(1,2,figsize=(15,10)) \n",
        "#Plotting content image   \n",
        "ax1.set_title('Content Image', fontsize=25)\n",
        "ax1.imshow(fn.FImg.resize(Content.Img, (1024,1024)))  \n",
        "ax1.axis('off')  \n",
        "#Plotting style image  \n",
        "ax2.set_title('Style Image', fontsize=25)\n",
        "ax2.imshow(fn.FImg.resize(Style.Img, (1024,1024)))\n",
        "ax2.axis('off')\n",
        "plt.savefig(os.getcwd()+'/Chalkrahbunstyle_content.jpg', bbox_inches='tight', pad_inches=0.25)  \n",
        "plt.show()"
      ]
    },
    {
      "cell_type": "code",
      "execution_count": null,
      "metadata": {},
      "outputs": [],
      "source": [
        "BASE_PATH = os.getcwd()\n",
        "allM(IMG_SIZE,STYLE_IMG,CONTENT_IMG,NUM_EPOCHS,ADAM_LR,STYLE_WEIGHT,CONTENT_WEIGHT,BASE_PATH)"
      ]
    },
    {
      "cell_type": "code",
      "execution_count": null,
      "metadata": {},
      "outputs": [],
      "source": [
        "allA(IMG_SIZE,STYLE_IMG,CONTENT_IMG,NUM_EPOCHS,ADAM_LR,STYLE_WEIGHT,CONTENT_WEIGHT,BASE_PATH)"
      ]
    },
    {
      "source": [
        "## 4"
      ],
      "cell_type": "markdown",
      "metadata": {}
    },
    {
      "cell_type": "code",
      "execution_count": null,
      "metadata": {},
      "outputs": [],
      "source": [
        "STYLE_IMG = r'./StyleImage/Chalkrahbun/0003.jpg'\n",
        "CONTENT_IMG = r'./ContentImage/test/4.jpg'"
      ]
    },
    {
      "cell_type": "code",
      "execution_count": null,
      "metadata": {},
      "outputs": [],
      "source": [
        "%cd c:\\Users\\mpata\\OneDrive - King Mongkut’s University of Technology Thonburi (KMUTT)\\StyleTransfer\\Test\\output\n",
        "%mkdir output4\n",
        "%cd output4"
      ]
    },
    {
      "cell_type": "code",
      "execution_count": null,
      "metadata": {},
      "outputs": [],
      "source": [
        "Style = fn.AImage(STYLE_IMG)\n",
        "Content = fn.AImage(CONTENT_IMG)\n",
        "fig,(ax1,ax2)=plt.subplots(1,2,figsize=(15,10)) \n",
        "#Plotting content image   \n",
        "ax1.set_title('Content Image', fontsize=25)\n",
        "ax1.imshow(fn.FImg.resize(Content.Img, (1024,1024)))  \n",
        "ax1.axis('off')  \n",
        "#Plotting style image  \n",
        "ax2.set_title('Style Image', fontsize=25)\n",
        "ax2.imshow(fn.FImg.resize(Style.Img, (1024,1024)))\n",
        "ax2.axis('off')\n",
        "plt.savefig(os.getcwd()+'/Chalkrahbunstyle_content.jpg', bbox_inches='tight', pad_inches=0.25)  \n",
        "plt.show()"
      ]
    },
    {
      "cell_type": "code",
      "execution_count": null,
      "metadata": {},
      "outputs": [],
      "source": [
        "BASE_PATH = os.getcwd()\n",
        "allM(IMG_SIZE,STYLE_IMG,CONTENT_IMG,NUM_EPOCHS,ADAM_LR,STYLE_WEIGHT,CONTENT_WEIGHT,BASE_PATH)"
      ]
    },
    {
      "cell_type": "code",
      "execution_count": null,
      "metadata": {},
      "outputs": [],
      "source": [
        "allA(IMG_SIZE,STYLE_IMG,CONTENT_IMG,NUM_EPOCHS,ADAM_LR,STYLE_WEIGHT,CONTENT_WEIGHT,BASE_PATH)"
      ]
    },
    {
      "source": [
        "## 5"
      ],
      "cell_type": "markdown",
      "metadata": {}
    },
    {
      "cell_type": "code",
      "execution_count": null,
      "metadata": {},
      "outputs": [],
      "source": [
        "STYLE_IMG = r'./StyleImage/Chalood/0002.jpg'\n",
        "CONTENT_IMG = r'./ContentImage/test/5.jpg'"
      ]
    },
    {
      "cell_type": "code",
      "execution_count": null,
      "metadata": {},
      "outputs": [],
      "source": [
        "%cd c:\\Users\\mpata\\OneDrive - King Mongkut’s University of Technology Thonburi (KMUTT)\\StyleTransfer\\Test\\output\n",
        "%mkdir output5\n",
        "%cd output5"
      ]
    },
    {
      "cell_type": "code",
      "execution_count": null,
      "metadata": {},
      "outputs": [],
      "source": [
        "Style = fn.AImage(STYLE_IMG)\n",
        "Content = fn.AImage(CONTENT_IMG)\n",
        "fig,(ax1,ax2)=plt.subplots(1,2,figsize=(15,10)) \n",
        "#Plotting content image   \n",
        "ax1.set_title('Content Image', fontsize=25)\n",
        "ax1.imshow(fn.FImg.resize(Content.Img, (1024,1024)))  \n",
        "ax1.axis('off')  \n",
        "#Plotting style image  \n",
        "ax2.set_title('Style Image', fontsize=25)\n",
        "ax2.imshow(fn.FImg.resize(Style.Img, (1024,1024)))\n",
        "ax2.axis('off')\n",
        "plt.savefig(os.getcwd()+'/style_content.jpg', bbox_inches='tight', pad_inches=0.25)  \n",
        "plt.show()"
      ]
    },
    {
      "cell_type": "code",
      "execution_count": null,
      "metadata": {},
      "outputs": [],
      "source": [
        "BASE_PATH = os.getcwd()\n",
        "allM(IMG_SIZE,STYLE_IMG,CONTENT_IMG,NUM_EPOCHS,ADAM_LR,STYLE_WEIGHT,CONTENT_WEIGHT,BASE_PATH)"
      ]
    },
    {
      "cell_type": "code",
      "execution_count": null,
      "metadata": {},
      "outputs": [],
      "source": [
        "allA(IMG_SIZE,STYLE_IMG,CONTENT_IMG,NUM_EPOCHS,ADAM_LR,STYLE_WEIGHT,CONTENT_WEIGHT,BASE_PATH)"
      ]
    },
    {
      "source": [
        "## 6"
      ],
      "cell_type": "markdown",
      "metadata": {}
    },
    {
      "cell_type": "code",
      "execution_count": null,
      "metadata": {},
      "outputs": [],
      "source": [
        "STYLE_IMG = r'./StyleImage/Chalood/0002.jpg'\n",
        "CONTENT_IMG = r'./ContentImage/test/7.jpg'"
      ]
    },
    {
      "cell_type": "code",
      "execution_count": null,
      "metadata": {},
      "outputs": [],
      "source": [
        "%cd c:\\Users\\mpata\\OneDrive - King Mongkut’s University of Technology Thonburi (KMUTT)\\StyleTransfer\\Test\\output\n",
        "%mkdir output6\n",
        "%cd output6"
      ]
    },
    {
      "cell_type": "code",
      "execution_count": null,
      "metadata": {},
      "outputs": [],
      "source": [
        "Style = fn.AImage(STYLE_IMG)\n",
        "Content = fn.AImage(CONTENT_IMG)\n",
        "fig,(ax1,ax2)=plt.subplots(1,2,figsize=(15,10)) \n",
        "#Plotting content image   \n",
        "ax1.set_title('Content Image', fontsize=25)\n",
        "ax1.imshow(fn.FImg.resize(Content.Img, (1024,1024)))  \n",
        "ax1.axis('off')  \n",
        "#Plotting style image  \n",
        "ax2.set_title('Style Image', fontsize=25)\n",
        "ax2.imshow(fn.FImg.resize(Style.Img, (1024,1024)))\n",
        "ax2.axis('off')\n",
        "plt.savefig(os.getcwd()+'/Chaloodstyle_content.jpg', bbox_inches='tight', pad_inches=0.25)  \n",
        "plt.show()"
      ]
    },
    {
      "cell_type": "code",
      "execution_count": null,
      "metadata": {},
      "outputs": [],
      "source": [
        "BASE_PATH = os.getcwd()\n",
        "allM(IMG_SIZE,STYLE_IMG,CONTENT_IMG,NUM_EPOCHS,ADAM_LR,STYLE_WEIGHT,CONTENT_WEIGHT,BASE_PATH)"
      ]
    },
    {
      "cell_type": "code",
      "execution_count": null,
      "metadata": {},
      "outputs": [],
      "source": [
        "allA(IMG_SIZE,STYLE_IMG,CONTENT_IMG,NUM_EPOCHS,ADAM_LR,STYLE_WEIGHT,CONTENT_WEIGHT,BASE_PATH)"
      ]
    },
    {
      "source": [
        "## 7"
      ],
      "cell_type": "markdown",
      "metadata": {}
    },
    {
      "cell_type": "code",
      "execution_count": null,
      "metadata": {},
      "outputs": [],
      "source": [
        "STYLE_IMG = r'./StyleImage/Chalood/0009.jpg'\n",
        "CONTENT_IMG = r'./ContentImage/test/6.jpg'"
      ]
    },
    {
      "cell_type": "code",
      "execution_count": null,
      "metadata": {},
      "outputs": [],
      "source": [
        "%cd c:\\Users\\mpata\\OneDrive - King Mongkut’s University of Technology Thonburi (KMUTT)\\StyleTransfer\\Test\\output\n",
        "%mkdir output7\n",
        "%cd output7"
      ]
    },
    {
      "cell_type": "code",
      "execution_count": null,
      "metadata": {},
      "outputs": [],
      "source": [
        "Style = fn.AImage(STYLE_IMG)\n",
        "Content = fn.AImage(CONTENT_IMG)\n",
        "fig,(ax1,ax2)=plt.subplots(1,2,figsize=(15,10)) \n",
        "#Plotting content image   \n",
        "ax1.set_title('Content Image', fontsize=25)\n",
        "ax1.imshow(fn.FImg.resize(Content.Img, (1024,1024)))  \n",
        "ax1.axis('off')  \n",
        "#Plotting style image  \n",
        "ax2.set_title('Style Image', fontsize=25)\n",
        "ax2.imshow(fn.FImg.resize(Style.Img, (1024,1024)))\n",
        "ax2.axis('off')\n",
        "plt.savefig(os.getcwd()+'/Chaloodstyle_content.jpg', bbox_inches='tight', pad_inches=0.25)  \n",
        "plt.show()"
      ]
    },
    {
      "cell_type": "code",
      "execution_count": null,
      "metadata": {},
      "outputs": [],
      "source": [
        "BASE_PATH = os.getcwd()\n",
        "allM(IMG_SIZE,STYLE_IMG,CONTENT_IMG,NUM_EPOCHS,ADAM_LR,STYLE_WEIGHT,CONTENT_WEIGHT,BASE_PATH)"
      ]
    },
    {
      "cell_type": "code",
      "execution_count": null,
      "metadata": {},
      "outputs": [],
      "source": [
        "allA(IMG_SIZE,STYLE_IMG,CONTENT_IMG,NUM_EPOCHS,ADAM_LR,STYLE_WEIGHT,CONTENT_WEIGHT,BASE_PATH)"
      ]
    },
    {
      "source": [
        "## 8"
      ],
      "cell_type": "markdown",
      "metadata": {}
    },
    {
      "cell_type": "code",
      "execution_count": null,
      "metadata": {},
      "outputs": [],
      "source": [
        "STYLE_IMG = r'./StyleImage/Chalood/0009.jpg'\n",
        "CONTENT_IMG = r'./ContentImage/test/9.jpg'"
      ]
    },
    {
      "cell_type": "code",
      "execution_count": null,
      "metadata": {},
      "outputs": [],
      "source": [
        "%cd c:\\Users\\mpata\\OneDrive - King Mongkut’s University of Technology Thonburi (KMUTT)\\StyleTransfer\\Test\\output\n",
        "%mkdir output8\n",
        "%cd output8"
      ]
    },
    {
      "cell_type": "code",
      "execution_count": null,
      "metadata": {},
      "outputs": [],
      "source": [
        "Style = fn.AImage(STYLE_IMG)\n",
        "Content = fn.AImage(CONTENT_IMG)\n",
        "fig,(ax1,ax2)=plt.subplots(1,2,figsize=(15,10)) \n",
        "#Plotting content image   \n",
        "ax1.set_title('Content Image', fontsize=25)\n",
        "ax1.imshow(fn.FImg.resize(Content.Img, (1024,1024)))  \n",
        "ax1.axis('off')  \n",
        "#Plotting style image  \n",
        "ax2.set_title('Style Image', fontsize=25)\n",
        "ax2.imshow(fn.FImg.resize(Style.Img, (1024,1024)))\n",
        "ax2.axis('off')\n",
        "plt.savefig(os.getcwd()+'/Chaloodstyle_content.jpg', bbox_inches='tight', pad_inches=0.25)  \n",
        "plt.show()"
      ]
    },
    {
      "cell_type": "code",
      "execution_count": null,
      "metadata": {},
      "outputs": [],
      "source": [
        "BASE_PATH = os.getcwd()\n",
        "allM(IMG_SIZE,STYLE_IMG,CONTENT_IMG,NUM_EPOCHS,ADAM_LR,STYLE_WEIGHT,CONTENT_WEIGHT,BASE_PATH)"
      ]
    },
    {
      "cell_type": "code",
      "execution_count": null,
      "metadata": {},
      "outputs": [],
      "source": [
        "allA(IMG_SIZE,STYLE_IMG,CONTENT_IMG,NUM_EPOCHS,ADAM_LR,STYLE_WEIGHT,CONTENT_WEIGHT,BASE_PATH)"
      ]
    }
  ]
}