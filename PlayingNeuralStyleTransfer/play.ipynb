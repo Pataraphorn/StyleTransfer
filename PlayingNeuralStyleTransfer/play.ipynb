{
 "metadata": {
  "language_info": {
   "codemirror_mode": {
    "name": "ipython",
    "version": 3
   },
   "file_extension": ".py",
   "mimetype": "text/x-python",
   "name": "python",
   "nbconvert_exporter": "python",
   "pygments_lexer": "ipython3",
   "version": "3.8.8"
  },
  "orig_nbformat": 2,
  "kernelspec": {
   "name": "python388jvsc74a57bd0454395d4b91ff107cbc329eeab1043600a5ee78e1200252afbf0ce2681a64ef8",
   "display_name": "Python 3.8.8 64-bit ('base': conda)"
  }
 },
 "nbformat": 4,
 "nbformat_minor": 2,
 "cells": [
  {
   "cell_type": "code",
   "execution_count": 1,
   "metadata": {},
   "outputs": [],
   "source": [
    "import main as m\n",
    "import utils as fn\n",
    "import model\n",
    "import os\n",
    "import string\n",
    "import random\n",
    "import ipywidgets as widgets"
   ]
  },
  {
   "source": [
    "# Set root path"
   ],
   "cell_type": "markdown",
   "metadata": {}
  },
  {
   "cell_type": "code",
   "execution_count": 2,
   "metadata": {},
   "outputs": [],
   "source": [
    "STYLE_ROOT = r'.\\StyleImg'\n",
    "CONTENT_ROOT = r'.\\ContentImg'\n",
    "OUTPUT_ROOT = r'.\\OutputImg'"
   ]
  },
  {
   "source": [
    "## 1. setting"
   ],
   "cell_type": "markdown",
   "metadata": {}
  },
  {
   "cell_type": "code",
   "execution_count": 6,
   "metadata": {},
   "outputs": [
    {
     "output_type": "display_data",
     "data": {
      "text/plain": "Tab(children=(RadioButtons(description='Type :', options=('Chakrahbun Style', 'Chalood Style'), value='Chakrah…",
      "application/vnd.jupyter.widget-view+json": {
       "version_major": 2,
       "version_minor": 0,
       "model_id": "9796c29113094b21aa9b39407e63bf25"
      }
     },
     "metadata": {}
    }
   ],
   "source": [
    "# Type of Style Image\n",
    "TypeStyle = widgets.RadioButtons(\n",
    "    options=['Chakrahbun Style', 'Chalood Style'],\n",
    "    description='Type :',\n",
    "    disabled=False\n",
    ")\n",
    "\n",
    "Select_pooling = widgets.ToggleButtons(\n",
    "    options=['max', 'avg'],\n",
    "    description='Pooling :',\n",
    "    disabled=False,\n",
    "    button_style='', # 'success', 'info', 'warning', 'danger' or ''\n",
    "    tooltips=['Max pooling layer', 'Average pooling layer']\n",
    ")\n",
    "Select_method = widgets.ToggleButtons(\n",
    "    options=['before', 'after'],\n",
    "    description='Method :',\n",
    "    disabled=False,\n",
    "    button_style='', # 'success', 'info', 'warning', 'danger' or ''\n",
    "    tooltips=['Color preservation before Neural style transfer', 'Color preservation after Neural style transfer']\n",
    ")\n",
    "Select_color = widgets.ToggleButtons(\n",
    "    options=['None','histogram', 'luminance'],\n",
    "    description='Color Preservation :',\n",
    "    disabled=False,\n",
    "    button_style='', # 'success', 'info', 'warning', 'danger' or ''\n",
    "    tooltips=['No using color parservation','Color preservation is Histogram matching', 'Color preservation is Luminance matching']\n",
    ")\n",
    "Select_epoches = widgets.IntText(\n",
    "    value=300,\n",
    "    description='Epoches :',\n",
    "    disabled=False\n",
    ")\n",
    "Select_LR = widgets.FloatText(\n",
    "    value=0.03,\n",
    "    description='LR :',\n",
    "    disabled=False\n",
    ")\n",
    "parameter = widgets.HBox([widgets.VBox([Select_epoches, Select_LR])])\n",
    "\n",
    "# tab1 : Set neural style transfer\n",
    "accordion1 = widgets.Accordion(children=[Select_pooling, Select_method, Select_color,parameter])\n",
    "accordion1.set_title(0, 'Pooling layer in VGG19')\n",
    "accordion1.set_title(1, 'Method')\n",
    "accordion1.set_title(2, 'Type of Color Preservation')\n",
    "accordion1.set_title(3, 'Set parameters')\n",
    "\n",
    "# tab2\n",
    "button = widgets.Button(\n",
    "    description=' Start Running',\n",
    "    disabled=False,\n",
    "    button_style='', # 'success', 'info', 'warning', 'danger' or ''\n",
    "    tooltip='Start Running',\n",
    "    icon='play'\n",
    ")\n",
    "run = widgets.Output()\n",
    "\n",
    "def on_button_clicked(b):\n",
    "    with run:\n",
    "        run.clear_output()\n",
    "        print(\"Start Running !!!\")\n",
    "        print(\"Using Style\",TypeStyle.value,\"Picture : \",styleTab.selected_index)\n",
    "        STYLE_IMG = os.path.join(SImgDirectory,ImgSPaths[styleTab.selected_index])\n",
    "        print(\"Using Content Image Picture : \",contentTab.selected_index)\n",
    "        CONTENT_IMG = os.path.join(CONTENT_ROOT,ImgCPaths[contentTab.selected_index])\n",
    "        \n",
    "        # show content & style image\n",
    "        Style = fn.AImage(STYLE_IMG)\n",
    "        Content = fn.AImage(CONTENT_IMG)\n",
    "        fn.show2Image(Style.Img,Content.Img)\n",
    "\n",
    "        if(TypeStyle.index==0):\n",
    "            # print(\"Using Chakrahbun Style for Style Image\")\n",
    "            STYLE_WEIGHT = 100\n",
    "            CONTENT_WEIGHT = 0.01\n",
    "        elif(TypeStyle.index==1):\n",
    "            # print(\"Using Chalood Style for Style Image\")\n",
    "            STYLE_WEIGHT = 100\n",
    "            CONTENT_WEIGHT = 10\n",
    "        IMG_SIZE = (224,224)\n",
    "        \n",
    "        print('Pooling layer of VGG19 : max pooling') if Select_pooling.index==0 else print('Pooling layer of VGG19 : average pooling')\n",
    "        VGG = model.VGG19(pool=Select_pooling.value)\n",
    "        result = m.main(VGG,IMG_SIZE,STYLE_IMG,CONTENT_IMG,Select_method.value, Select_color.value,Select_epoches.value,Select_LR.value,STYLE_WEIGHT,CONTENT_WEIGHT)\n",
    "        letters = string.ascii_letters\n",
    "        namefile = ''.join(random.choice(letters) for i in range(10))+'.jpg'\n",
    "        fn.FImg.save(result, os.path.join(OUTPUT_ROOT,namefile))\n",
    "\n",
    "button.on_click(on_button_clicked)\n",
    "\n",
    "# display setting\n",
    "tab_nest = widgets.Tab()\n",
    "tab_nest.children = [TypeStyle, accordion1]\n",
    "tab_nest.set_title(0, 'Set Style Image')\n",
    "tab_nest.set_title(1, 'Set style transfer')\n",
    "tab_nest"
   ]
  },
  {
   "source": [
    "## 2. select image (run after setting)"
   ],
   "cell_type": "markdown",
   "metadata": {}
  },
  {
   "cell_type": "code",
   "execution_count": 7,
   "metadata": {},
   "outputs": [
    {
     "output_type": "display_data",
     "data": {
      "text/plain": "Accordion(children=(Tab(children=(Image(value=b'\\xff\\xd8\\xff\\xe1\\x00\\x18Exif\\x00\\x00II*\\x00\\x08\\x00\\x00\\x00\\x0…",
      "application/vnd.jupyter.widget-view+json": {
       "version_major": 2,
       "version_minor": 0,
       "model_id": "1fefe8cde0e242aba538dac390ce475d"
      }
     },
     "metadata": {}
    }
   ],
   "source": [
    "# select style image\n",
    "SImgDirectory = os.path.join(STYLE_ROOT,os.listdir(STYLE_ROOT)[TypeStyle.index])\n",
    "ImgSPaths = os.listdir(SImgDirectory)\n",
    "\n",
    "tab_styles = [open(os.path.join(SImgDirectory,imgpath), \"rb\").read() for imgpath in ImgSPaths]\n",
    "childrenS = [widgets.Image(value=name,format='png',width=200,height=400) for name in tab_styles]\n",
    "styleTab = widgets.Tab()\n",
    "styleTab.children = childrenS\n",
    "for i in range(len(ImgSPaths)):\n",
    "    styleTab.set_title(i, str(i))\n",
    "\n",
    "# select content image\n",
    "ImgCPaths = os.listdir(CONTENT_ROOT)\n",
    "tab_contents = [open(os.path.join(CONTENT_ROOT,imgpath), \"rb\").read() for imgpath in ImgCPaths]\n",
    "childrenC = [widgets.Image(value=name,format='png',width=200,height=400) for name in tab_contents]\n",
    "contentTab = widgets.Tab()\n",
    "contentTab.children = childrenC\n",
    "for i in range(len(ImgCPaths)):\n",
    "    contentTab.set_title(i, str(i))\n",
    "\n",
    "setImg = widgets.Accordion(children=[styleTab,contentTab])\n",
    "setImg.set_title(0, ' Select '+str(TypeStyle.value)+' Image')\n",
    "setImg.set_title(1, ' Select Content Image')\n",
    "\n",
    "setImg"
   ]
  },
  {
   "source": [
    "## 3. playing neural style transfer (run after select Style Image and Content Image)"
   ],
   "cell_type": "markdown",
   "metadata": {}
  },
  {
   "cell_type": "code",
   "execution_count": 8,
   "metadata": {},
   "outputs": [
    {
     "output_type": "display_data",
     "data": {
      "text/plain": "Button(description=' Start Running', icon='play', style=ButtonStyle(), tooltip='Start Running')",
      "application/vnd.jupyter.widget-view+json": {
       "version_major": 2,
       "version_minor": 0,
       "model_id": "2b7fb29731094a3cb37138d456b5945e"
      }
     },
     "metadata": {}
    },
    {
     "output_type": "display_data",
     "data": {
      "text/plain": "Output()",
      "application/vnd.jupyter.widget-view+json": {
       "version_major": 2,
       "version_minor": 0,
       "model_id": "b85edc370deb4fd5b79509e29dfafca7"
      }
     },
     "metadata": {}
    }
   ],
   "source": [
    "display(button, run)"
   ]
  }
 ]
}